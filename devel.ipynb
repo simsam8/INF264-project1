{
 "cells": [
  {
   "cell_type": "code",
   "execution_count": 1,
   "id": "d1b63ca2-8443-4b91-8a91-a273c962b6ba",
   "metadata": {},
   "outputs": [],
   "source": [
    "import numpy as np\n",
    "import pandas as pd"
   ]
  },
  {
   "cell_type": "code",
   "execution_count": 2,
   "id": "29f6680f-fec9-4bf4-9a62-cf849c5dae6b",
   "metadata": {},
   "outputs": [
    {
     "data": {
      "text/html": [
       "<div>\n",
       "<style scoped>\n",
       "    .dataframe tbody tr th:only-of-type {\n",
       "        vertical-align: middle;\n",
       "    }\n",
       "\n",
       "    .dataframe tbody tr th {\n",
       "        vertical-align: top;\n",
       "    }\n",
       "\n",
       "    .dataframe thead th {\n",
       "        text-align: right;\n",
       "    }\n",
       "</style>\n",
       "<table border=\"1\" class=\"dataframe\">\n",
       "  <thead>\n",
       "    <tr style=\"text-align: right;\">\n",
       "      <th></th>\n",
       "      <th>citric acid</th>\n",
       "      <th>residual sugar</th>\n",
       "      <th>pH</th>\n",
       "      <th>sulphates</th>\n",
       "      <th>alcohol</th>\n",
       "    </tr>\n",
       "  </thead>\n",
       "  <tbody>\n",
       "    <tr>\n",
       "      <th>0</th>\n",
       "      <td>0.13</td>\n",
       "      <td>1.60</td>\n",
       "      <td>3.34</td>\n",
       "      <td>0.59</td>\n",
       "      <td>9.2</td>\n",
       "    </tr>\n",
       "    <tr>\n",
       "      <th>1</th>\n",
       "      <td>0.10</td>\n",
       "      <td>2.80</td>\n",
       "      <td>3.60</td>\n",
       "      <td>0.66</td>\n",
       "      <td>10.2</td>\n",
       "    </tr>\n",
       "    <tr>\n",
       "      <th>2</th>\n",
       "      <td>0.32</td>\n",
       "      <td>1.90</td>\n",
       "      <td>3.20</td>\n",
       "      <td>0.55</td>\n",
       "      <td>9.5</td>\n",
       "    </tr>\n",
       "    <tr>\n",
       "      <th>3</th>\n",
       "      <td>0.29</td>\n",
       "      <td>13.65</td>\n",
       "      <td>3.00</td>\n",
       "      <td>0.60</td>\n",
       "      <td>9.5</td>\n",
       "    </tr>\n",
       "    <tr>\n",
       "      <th>4</th>\n",
       "      <td>0.26</td>\n",
       "      <td>2.00</td>\n",
       "      <td>3.41</td>\n",
       "      <td>0.74</td>\n",
       "      <td>9.2</td>\n",
       "    </tr>\n",
       "  </tbody>\n",
       "</table>\n",
       "</div>"
      ],
      "text/plain": [
       "   citric acid  residual sugar    pH  sulphates  alcohol\n",
       "0         0.13            1.60  3.34       0.59      9.2\n",
       "1         0.10            2.80  3.60       0.66     10.2\n",
       "2         0.32            1.90  3.20       0.55      9.5\n",
       "3         0.29           13.65  3.00       0.60      9.5\n",
       "4         0.26            2.00  3.41       0.74      9.2"
      ]
     },
     "execution_count": 2,
     "metadata": {},
     "output_type": "execute_result"
    }
   ],
   "source": [
    "dataset = pd.read_csv(\"wine_dataset.csv\")\n",
    "features = dataset.loc[:,:\"alcohol\"]\n",
    "labels = dataset[\"type\"]\n",
    "\n",
    "features.head()\n"
   ]
  },
  {
   "cell_type": "code",
   "execution_count": 3,
   "id": "9f6da34c-4700-442c-8356-fd41e44c4f04",
   "metadata": {},
   "outputs": [],
   "source": [
    "def equal_features(X: pd.DataFrame):\n",
    "    for col in X.columns:\n",
    "        if (X[col] == X[col][0]).all():\n",
    "            pass\n",
    "        else:\n",
    "            return False\n",
    "    return True"
   ]
  },
  {
   "cell_type": "code",
   "execution_count": 4,
   "id": "cffb7dfa-f67d-41c6-991e-44fc9a980a82",
   "metadata": {},
   "outputs": [],
   "source": [
    "def calculate_entropy(y: pd.Series):\n",
    "    p = y.value_counts() / y.shape[0]\n",
    "    #print(y.value_counts())\n",
    "    #p_ = 1-p\n",
    "    #print(p)\n",
    "    return -np.sum(p * np.log2(p))"
   ]
  },
  {
   "cell_type": "code",
   "execution_count": 5,
   "id": "b370b733-6f7e-4d88-b3d9-55a702cce896",
   "metadata": {},
   "outputs": [],
   "source": [
    "def calculate_conditional_entropy(x: pd.Series, y: pd.Series):\n",
    "    xy = pd.Series(np.c_[x,y])\n",
    "    entropy_xy = calculate_entropy(xy)\n",
    "    entropy_y = calculate_entropy(y)\n",
    "    return entropy_xy - entropy_y"
   ]
  },
  {
   "cell_type": "code",
   "execution_count": 6,
   "id": "9c5799d6-9e83-4200-8e8b-a3673c4185a1",
   "metadata": {},
   "outputs": [],
   "source": [
    "def calculate_information_gain(X: pd.DataFrame, y: pd.Series):\n",
    "    print(\"Dataset entropy\")\n",
    "    E_dataset = calculate_entropy(y)\n",
    "    print(E_dataset)\n",
    "    information_gain = []\n",
    "    for col in X.columns:\n",
    "        #prob = X[col].where(X[col] > X[col].mean())\n",
    "        binned = X[col].where(X[col] > X[col].mean())\n",
    "        bin_over = binned.dropna()\n",
    "        #print(bin_over.index)\n",
    "        bin_under = binned.iloc[binned.index.difference(bin_over.index)]\n",
    "        over_labels = y.loc[bin_over.index]\n",
    "        under_labels = y.loc[bin_under.index]\n",
    "        E_col = calculate_entropy(over_labels) # + calculate_entropy(unde_labels)\n",
    "        print(col, E_col)\n",
    "        if_gain = E_dataset - E_col \n",
    "        information_gain.append((col,if_gain))\n",
    "        max_information_gain = max(information_gain)[0]\n",
    "    return max_information_gain"
   ]
  },
  {
   "cell_type": "code",
   "execution_count": 7,
   "id": "d19fcb63-9936-47c8-a228-3c611ca6f5f5",
   "metadata": {},
   "outputs": [],
   "source": [
    "def learn(X: pd.DataFrame, y: pd.Series, impurity_measure='entropy'):\n",
    "    # All data points have the same label\n",
    "    if len(y.unique()) == 1:\n",
    "        return y.unique()[0] # change to return leaf\n",
    "    # All data points have identical feature values\n",
    "    elif equal_features(X):\n",
    "        return y.value_counts() # change to return leaf\n",
    "    else:\n",
    "        return \"you have to split\"\n",
    "        "
   ]
  },
  {
   "cell_type": "code",
   "execution_count": 8,
   "id": "85852775-e087-44cb-89d5-5dd4cdc9d764",
   "metadata": {},
   "outputs": [
    {
     "name": "stdout",
     "output_type": "stream",
     "text": [
      "Dataset entropy\n",
      "1.0\n",
      "citric acid 0.9900450330083538\n",
      "residual sugar 0.47343554117086206\n",
      "pH 0.9001541218711762\n",
      "sulphates 0.7621409317970893\n",
      "alcohol 0.9984225336343968\n"
     ]
    },
    {
     "data": {
      "text/plain": [
       "'sulphates'"
      ]
     },
     "execution_count": 8,
     "metadata": {},
     "output_type": "execute_result"
    }
   ],
   "source": [
    "calculate_information_gain(features, labels)"
   ]
  }
 ],
 "metadata": {
  "kernelspec": {
   "display_name": "Python 3 (ipykernel)",
   "language": "python",
   "name": "python3"
  },
  "language_info": {
   "codemirror_mode": {
    "name": "ipython",
    "version": 3
   },
   "file_extension": ".py",
   "mimetype": "text/x-python",
   "name": "python",
   "nbconvert_exporter": "python",
   "pygments_lexer": "ipython3",
   "version": "3.11.5"
  }
 },
 "nbformat": 4,
 "nbformat_minor": 5
}
